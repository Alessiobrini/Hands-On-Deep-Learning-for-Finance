{
 "cells": [
  {
   "cell_type": "markdown",
   "metadata": {},
   "source": [
    "# Winsorization\n"
   ]
  },
  {
   "cell_type": "code",
   "execution_count": null,
   "metadata": {},
   "outputs": [],
   "source": [
    "# winsorize data function where upper and lower cutoff values can be different and winsorization can work on groups\n",
    "# so if the index is a multi country or multi sector index those groups can be used and winsorization done within group\n",
    "# this helps to avoid losing information about a particular section\n",
    "\n",
    "def winsorize_var_m(variable=None,group=None,l_cutoff=None,u_cutoff=None,*args,**kwargs):\n",
    "    varargin = winsorize_var_m.varargin\n",
    "    nargin = winsorize_var_m.nargin\n",
    "\n",
    "    nCos,nT=size(variable,nargout=2)\n",
    "    w_variable=dot(NaN,ones(nCos,nT))\n",
    "    for t in arange(1,nT).reshape(-1):\n",
    "        u_group=concat([unique(group(arange(),t)),zeros(length(unique(group(arange(),t))),2)])\n",
    "        index_stocks=concat([arange(1,nCos)]).T\n",
    "        temp_var=concat([variable(arange(),t),zeros(nCos,1)])\n",
    "        temp_group=group(isnan(temp_var(arange(),1)) == 0,t)\n",
    "        index_stocks=index_stocks(isnan(temp_var(arange(),1)) == 0)\n",
    "        temp_var=temp_var(isnan(temp_var(arange(),1)) == 0,arange())\n",
    "        for i in arange(1,length(u_group(arange(),1))).reshape(-1):\n",
    "            #getting the observations for group i\n",
    "            temp_group_var=temp_var(temp_group == u_group(i,1))\n",
    "            temp_index_stock=index_stocks(temp_group == u_group(i,1))\n",
    "            #calculations\n",
    "            if isempty(temp_group_var) == 0:\n",
    "                breakp=prctile(temp_group_var,concat([l_cutoff,100 - u_cutoff]).T)\n",
    "                inc_cutoff=1\n",
    "                while abs(mean(temp_group_var(temp_group_var < logical_and(breakp(2,1),temp_group_var) > breakp(1,1)))) > dot(3,abs(median(temp_group_var(temp_group_var < logical_and(breakp(2,1),temp_group_var) > breakp(1,1))))):\n",
    "\n",
    "                    breakp=prctile(temp_group_var,concat([l_cutoff + inc_cutoff,100 - (u_cutoff + inc_cutoff)]).T)\n",
    "                    inc_cutoff=inc_cutoff + 1\n",
    "\n",
    "                u_group[i,2]=mean(temp_group_var(temp_group_var < logical_and(breakp(2,1),temp_group_var) > breakp(1,1)))\n",
    "                u_group[i,3]=std(temp_group_var(temp_group_var < logical_and(breakp(2,1),temp_group_var) > breakp(1,1)))\n",
    "                temp_group_var[temp_group_var > (u_group(i,2) + dot(3,u_group(i,3)))]=(u_group(i,2) + dot(3,u_group(i,3)))\n",
    "                temp_group_var[temp_group_var < (u_group(i,2) - dot(3,u_group(i,3)))]=(u_group(i,2) - dot(3,u_group(i,3)))\n",
    "                w_variable[temp_index_stock,t]=temp_group_var\n",
    "            else:\n",
    "                u_group[i,2]=NaN\n",
    "                u_group[i,3]=NaN  "
   ]
  }
 ],
 "metadata": {
  "kernelspec": {
   "display_name": "Python 3",
   "language": "python",
   "name": "python3"
  },
  "language_info": {
   "codemirror_mode": {
    "name": "ipython",
    "version": 3
   },
   "file_extension": ".py",
   "mimetype": "text/x-python",
   "name": "python",
   "nbconvert_exporter": "python",
   "pygments_lexer": "ipython3",
   "version": "3.7.4"
  }
 },
 "nbformat": 4,
 "nbformat_minor": 2
}
