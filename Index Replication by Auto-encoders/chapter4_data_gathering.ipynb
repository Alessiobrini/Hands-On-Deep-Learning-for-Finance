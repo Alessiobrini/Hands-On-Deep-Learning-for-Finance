{
 "cells": [
  {
   "cell_type": "code",
   "execution_count": null,
   "metadata": {},
   "outputs": [],
   "source": [
    "import pandas as pd\n",
    "import numpy as np\n",
    "import time\n",
    "\n",
    "from pandas_datareader import data as pdr"
   ]
  },
  {
   "cell_type": "code",
   "execution_count": null,
   "metadata": {},
   "outputs": [],
   "source": [
    "# Stocks symbols\n",
    "df = pd.read_csv('data/nasdaq100_stocks.csv', header=None)\n",
    "stocks_symbols = np.squeeze(df, axis=1).tolist()"
   ]
  },
  {
   "cell_type": "code",
   "execution_count": null,
   "metadata": {},
   "outputs": [],
   "source": [
    "# Index symbol\n",
    "index_symbol = '^NDX'\n",
    "\n",
    "# Dates\n",
    "start_date = '2013-01-01'\n",
    "end_date = '2018-12-31'\n",
    "\n",
    "data = pd.DataFrame()    # Empty dataframe\n",
    "data[index_symbol] = pdr.DataReader(index_symbol, 'yahoo', start_date, end_date)['Adj Close']"
   ]
  },
  {
   "cell_type": "code",
   "execution_count": null,
   "metadata": {},
   "outputs": [],
   "source": [
    "i = 0\n",
    "while i < len(stocks_symbols):\n",
    "    print('Downloading.... ', i, stocks_symbols[i])\n",
    "\n",
    "    try:\n",
    "        # Use pandas_datareader.data.DataReader to extract the desired data from Yahoo!\n",
    "        data[stocks_symbols[i]] = pdr.DataReader(stocks_symbols[i], 'yahoo', start_date, end_date)['Adj Close']\n",
    "        i +=1\n",
    "        \n",
    "    except:\n",
    "        print ('Error with connexion. Wait for 1 minute to try again...')\n",
    "        # Wait for 30 seconds\n",
    "        time.sleep(30)\n",
    "        continue      "
   ]
  },
  {
   "cell_type": "code",
   "execution_count": null,
   "metadata": {},
   "outputs": [],
   "source": [
    "# Remove the missing values from dataframe\n",
    "data = data.dropna()\n",
    "\n",
    "# Save data\n",
    "data.iloc[:, 0].to_pickle('data/nasdaq100_index_6y.pkl')\n",
    "data.iloc[:, 1:].to_pickle('data/nasdaq100_6y.pkl')"
   ]
  }
 ],
 "metadata": {
  "kernelspec": {
   "display_name": "Python [conda env:keras]",
   "language": "python",
   "name": "conda-env-keras-py"
  },
  "language_info": {
   "codemirror_mode": {
    "name": "ipython",
    "version": 3
   },
   "file_extension": ".py",
   "mimetype": "text/x-python",
   "name": "python",
   "nbconvert_exporter": "python",
   "pygments_lexer": "ipython3",
   "version": "3.5.6"
  }
 },
 "nbformat": 4,
 "nbformat_minor": 4
}
