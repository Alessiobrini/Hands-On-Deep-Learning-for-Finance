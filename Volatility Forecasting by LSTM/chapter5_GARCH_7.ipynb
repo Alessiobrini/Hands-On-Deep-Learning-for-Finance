{
 "cells": [
  {
   "cell_type": "code",
   "execution_count": null,
   "metadata": {
    "collapsed": true
   },
   "outputs": [],
   "source": [
    "# Import libraries\n",
    "import os\n",
    "import numpy as np\n",
    "import pandas as pd\n",
    "import matplotlib.pyplot as plt\n",
    "\n",
    "from arch import arch_model"
   ]
  },
  {
   "cell_type": "code",
   "execution_count": null,
   "metadata": {
    "collapsed": true
   },
   "outputs": [],
   "source": [
    "# Variable definition\n",
    "data_folder = 'Data/' # Folder containing the dataset\n",
    "n_days = 1640\n",
    "look_back = 20\n",
    "# Rolling window forecasting\n",
    "window_length = 300"
   ]
  },
  {
   "cell_type": "code",
   "execution_count": null,
   "metadata": {
    "collapsed": true
   },
   "outputs": [],
   "source": [
    "# Preallocate the array\n",
    "dataset = np.empty((n_days, 0))\n",
    "\n",
    "# Create list to save assets names\n",
    "assets = []\n",
    "for f in sorted(os.listdir(data_folder)):\n",
    "\n",
    "    # Save assets names\n",
    "    assets.append(f.replace('.csv', ''))\n",
    "\n",
    "    # Load data\n",
    "    asset = pd.read_csv(data_folder + f, sep=',', usecols=[2, 3], engine='python')\n",
    "    asset = asset.values[:n_days]\n",
    " \n",
    "    # Ensure all data is float\n",
    "    asset = asset.astype('float32')\n",
    "    dataset = np.append(dataset, asset, axis=1)"
   ]
  },
  {
   "cell_type": "code",
   "execution_count": null,
   "metadata": {
    "collapsed": false
   },
   "outputs": [],
   "source": [
    "mse = []\n",
    "qlike = []\n",
    "\n",
    "for i in range(len(assets)):\n",
    "    # load returns\n",
    "    ret = dataset[:, i*2]\n",
    "    \n",
    "    # Specify the model and estimating parameters\n",
    "    am = arch_model(ret, vol='Garch', p=look_back, q=look_back)\n",
    "\n",
    "    forecasts = dict()\n",
    "    forecasts['day'] = []\n",
    "    forecasts['fcast'] = []\n",
    "    \n",
    "    for j in range(len(ret) - window_length):\n",
    "        # Estimate the model\n",
    "        res = am.fit(first_obs=j, last_obs=j+window_length, disp='off')\n",
    "        \n",
    "        # Make forecasts\n",
    "        temp = res.forecast(horizon=1).variance\n",
    "        fcast = temp.iloc[j + window_length - 1]\n",
    "        forecasts['day'].append(fcast.name)\n",
    "        forecasts['fcast'].append(fcast.values)\n",
    "\n",
    "    y_pred = np.array(forecasts['fcast']).reshape(-1)\n",
    "    y_true = dataset[window_length:, i*2+1]\n",
    "    \n",
    "    # plt.figure()\n",
    "    # plt.plot(forecasts['day'], y_pred, label='forecast')\n",
    "    # plt.plot(forecasts['day'], y_true, label='expected')\n",
    "    # plt.ylim([0, 60])\n",
    "    # plt.legend()\n",
    "    # plt.show()\n",
    "\n",
    "    # Calculate the evaluation metrics\n",
    "    mse_i = (y_true - y_pred) ** 2\n",
    "    qlike_i = np.log(y_pred) + (y_true / y_pred)\n",
    "    \n",
    "    # Save results\n",
    "    results = np.array([mse_i, qlike_i]).transpose()\n",
    "    np.savetxt('7-GARCH/' + assets[i] + '.csv', results, delimiter=',',\n",
    "               header='MSE, Q-LIKE', fmt='%10.5f', comments='')\n",
    "    \n",
    "    mse.append(np.mean(mse_i, axis=0))\n",
    "    qlike.append(np.mean(qlike_i, axis=0))"
   ]
  },
  {
   "cell_type": "code",
   "execution_count": null,
   "metadata": {
    "collapsed": false
   },
   "outputs": [],
   "source": [
    "# Save results\n",
    "results = np.array([mse, qlike]).transpose()\n",
    "np.savetxt('results/7.csv', results, delimiter=',', header='MSE, Q-LIKE', fmt='%10.5f', comments='')\n",
    "\n",
    "df = pd.DataFrame({'MSE': mse, 'QLIKE': qlike})\n",
    "print(df.describe())"
   ]
  },
  {
   "cell_type": "code",
   "execution_count": null,
   "metadata": {
    "collapsed": true
   },
   "outputs": [],
   "source": []
  }
 ],
 "metadata": {
  "kernelspec": {
   "display_name": "Python 3",
   "language": "python",
   "name": "python3"
  },
  "language_info": {
   "codemirror_mode": {
    "name": "ipython",
    "version": 3
   },
   "file_extension": ".py",
   "mimetype": "text/x-python",
   "name": "python",
   "nbconvert_exporter": "python",
   "pygments_lexer": "ipython3",
   "version": "3.5.6"
  }
 },
 "nbformat": 4,
 "nbformat_minor": 2
}
