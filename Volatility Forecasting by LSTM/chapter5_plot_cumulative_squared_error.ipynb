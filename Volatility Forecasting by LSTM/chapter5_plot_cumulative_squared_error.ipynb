{
 "cells": [
  {
   "cell_type": "code",
   "execution_count": null,
   "metadata": {
    "collapsed": true
   },
   "outputs": [],
   "source": [
    "# Import libraries\n",
    "import os\n",
    "\n",
    "import numpy as np\n",
    "import pandas as pd\n",
    "\n",
    "import matplotlib.pyplot as plt"
   ]
  },
  {
   "cell_type": "code",
   "execution_count": null,
   "metadata": {
    "collapsed": true
   },
   "outputs": [],
   "source": [
    "# Folder where results are stored\n",
    "data_folder = ['1-BASE',\n",
    "               '2-OL',\n",
    "               '3-OL_LSTM2',\n",
    "               '4-OL_LSTM2_softplus',\n",
    "               '5-OL_LSTM2_softplus_QLIKE',\n",
    "               '6-RNN',\n",
    "               '7-GARCH'\n",
    "              ]"
   ]
  },
  {
   "cell_type": "code",
   "execution_count": null,
   "metadata": {
    "collapsed": false
   },
   "outputs": [],
   "source": [
    "error_all = []\n",
    "\n",
    "for folder in data_folder:\n",
    "    error_f = np.empty((0, ))\n",
    "    i = 0\n",
    "    \n",
    "    for f in sorted(os.listdir(folder)):\n",
    "        # Load errors\n",
    "        error = pd.read_csv(folder + '/' + f, sep=',', usecols=[0, 1], engine='python')\n",
    "        error = np.abs(error['MSE'].values)\n",
    "        error_f = np.append(error_f, error.flatten(), axis=0)\n",
    "        i += 1\n",
    "\n",
    "    # Calculate cumulative squared error\n",
    "    error_f = np.sort(error_f)[::-1]\n",
    "    cum_error_f = np.cumsum(error_f)\n",
    "    error_all.append(cum_error_f)"
   ]
  },
  {
   "cell_type": "code",
   "execution_count": null,
   "metadata": {
    "collapsed": false
   },
   "outputs": [],
   "source": [
    "# Plot curves\n",
    "labels = data_folder\n",
    "plt.figure()\n",
    "for i in range(len(error_all)):\n",
    "    plt.plot(error_all[i], label=labels[i])\n",
    "plt.legend()\n",
    "plt.show()"
   ]
  },
  {
   "cell_type": "code",
   "execution_count": null,
   "metadata": {
    "collapsed": true
   },
   "outputs": [],
   "source": []
  }
 ],
 "metadata": {
  "kernelspec": {
   "display_name": "Python 3",
   "language": "python",
   "name": "python3"
  },
  "language_info": {
   "codemirror_mode": {
    "name": "ipython",
    "version": 3
   },
   "file_extension": ".py",
   "mimetype": "text/x-python",
   "name": "python",
   "nbconvert_exporter": "python",
   "pygments_lexer": "ipython3",
   "version": "3.5.6"
  }
 },
 "nbformat": 4,
 "nbformat_minor": 2
}
